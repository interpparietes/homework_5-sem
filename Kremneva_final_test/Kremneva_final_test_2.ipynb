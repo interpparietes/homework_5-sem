{
  "nbformat": 4,
  "nbformat_minor": 0,
  "metadata": {
    "colab": {
      "provenance": []
    },
    "kernelspec": {
      "name": "python3",
      "display_name": "Python 3"
    },
    "language_info": {
      "name": "python"
    }
  },
  "cells": [
    {
      "cell_type": "markdown",
      "metadata": {
        "id": "14cf45c9-35b1-458c-9d39-527d7bde55e8"
      },
      "source": [
        "#### Задача 3.\n",
        "\n",
        "Mean Squared Error (MSE, квадратичная ошибка) - формула для оценки правильности работы алгоритмов машинного обучения. Для чего она нужна? Допустим, у нас есть правильные ответы для нашей задачи. Компьютер учится решать задачу и дает собственные ответы, которые могут быть правильными, а могут быть  нет. Если обозначить наши правильные ответы как y_true, а ответы компьютера как y_pred, то MSE вычисляется как сумма квадратов разностей y_true и y_pred, поделенная на количество всех ответов:\n",
        "\n",
        "$$MSE = \\frac{\\sum_{n=1}^{N} (y\\_true - y\\_pred)^2}{N}$$\n",
        "\n",
        "Напишите функцию, которая будет вычислять MSE."
      ]
    },
    {
      "cell_type": "code",
      "execution_count": null,
      "metadata": {
        "id": "2e72fcc5-3261-45ab-b771-ca2a02329392"
      },
      "outputs": [],
      "source": [
        "def mse(y_true, y_pred):\n",
        "  square_sum = 0\n",
        "  for i in range(len(y_true)):\n",
        "    square_sum += (y_true[i] - y_pred[i]) ** 2\n",
        "  print(square_sum / len(y_true))\n",
        "\n",
        "assert all([mse([1, 2, 3], [4, 5, 6]) == 9.0, mse([10, 20, 10, 2], [10, 25, 5, -2]) == 16.5, mse([-1, 0], [0, -1]) == 1])"
      ]
    },
    {
      "cell_type": "code",
      "source": [
        "y_true = [int(x) for x in input().split()]\n",
        "y_pred = [int(x) for x in input().split()]\n",
        "mse(y_true, y_pred)"
      ],
      "metadata": {
        "colab": {
          "base_uri": "https://localhost:8080/"
        },
        "id": "8qysoljVIUOV",
        "outputId": "1bbf5ab1-9d77-4243-8bcf-0d47d79e1cd9"
      },
      "execution_count": null,
      "outputs": [
        {
          "output_type": "stream",
          "name": "stdout",
          "text": [
            "10 20 10 2\n",
            "10 25 5 -2\n",
            "16.5\n"
          ]
        }
      ]
    },
    {
      "cell_type": "markdown",
      "metadata": {
        "id": "7edf7ab9-486b-42ff-9e1d-a8708f43f9b9"
      },
      "source": [
        "#### Задача 6 (2 балла).\n",
        "\n",
        "Поиграемся и напишем несколько функций таких, чтобы можно было выполнять арифметические вычисления в виде функций. Они должны выглядеть, например, так:\n",
        "\n",
        "    seven(times(five())) # must return 35\n",
        "    four(plus(nine())) # must return 13\n",
        "    eight(minus(three())) # must return 5\n",
        "    six(divided_by(two())) # must return 3\n",
        "    \n",
        "Условия:\n",
        "\n",
        "- должна быть функция для каждого числа от 0 до 9\n",
        "- должна быть функция для каждого из арифметических операторов: +, -, *, //\n",
        "- каждое вычисление состоит из одной операции и двух чисел\n",
        "- внешняя функция представляет собой левый операнд, а самая вложенная - правый операнд\n",
        "- деление у нас только целочисленное и возвращает int.\n",
        "\n",
        "Подсказка:\n",
        "\n",
        "Наверное, функция для операции должна возвращать какую-то другую функцию с дополнением, а функция для числа должна возвращать либо число, либо вызывать функцию (в зависимости от того, какого типа аргумент она получила). Также пригодятся дефолтные параметры функций (это которые zero(arg=0))."
      ]
    },
    {
      "cell_type": "code",
      "execution_count": null,
      "metadata": {
        "id": "ba967315-27b9-46f2-be23-2318898b336c"
      },
      "outputs": [],
      "source": [
        "def zero(k=None, arg=0):\n",
        "  return k(arg) if k else arg\n",
        "\n",
        "def one(k=None, arg=1):\n",
        "  return k(arg) if k else arg\n",
        "\n",
        "def two(k=None, arg=2):\n",
        "  return k(arg) if k else arg\n",
        "\n",
        "def three(k=None, arg=3):\n",
        "  return k(arg) if k else arg\n",
        "\n",
        "def four(k=None, arg=4):\n",
        "  return k(arg) if k else arg\n",
        "\n",
        "def five(k=None, arg=5):\n",
        "  return k(arg) if k else arg\n",
        "\n",
        "def six(k=None, arg=6):\n",
        "  return k(arg) if k else arg\n",
        "\n",
        "def seven(k=None, arg=7):\n",
        "  return k(arg) if k else arg\n",
        "\n",
        "def eight(k=None, arg=8):\n",
        "  return k(arg) if k else arg\n",
        "\n",
        "def nine(k=None, arg=9):\n",
        "  return k(arg) if k else arg\n",
        "\n",
        "\n",
        "\n",
        "def plus(number):\n",
        "  return lambda x: x + number\n",
        "\n",
        "def minus(number):\n",
        "  return lambda x: x - number\n",
        "\n",
        "def times(number):\n",
        "  return lambda x: x * number\n",
        "\n",
        "def divided_by(number):\n",
        "  return lambda x: x // number\n",
        "\n",
        "assert all ([seven(times(five())) == 35, four(plus(nine())) == 13, eight(minus(three())) == 5, six(divided_by(two())) == 3])"
      ]
    },
    {
      "cell_type": "code",
      "source": [
        "print(eight(minus(three())))"
      ],
      "metadata": {
        "colab": {
          "base_uri": "https://localhost:8080/"
        },
        "id": "TMlo-F7-P4GY",
        "outputId": "c17f86a5-6771-451a-fc8c-63b6566f387c"
      },
      "execution_count": null,
      "outputs": [
        {
          "output_type": "stream",
          "name": "stdout",
          "text": [
            "5\n"
          ]
        }
      ]
    },
    {
      "cell_type": "markdown",
      "metadata": {
        "id": "29983e3e-4db7-4bea-8c0e-108d90c311be"
      },
      "source": [
        "#### Задача 9 (2 балла).\n",
        "\n",
        "Гадалка. Пользователь вводит общий вопрос на русском языке (на который можно ответить да/нет). Программа, конечно, может гадать рандомом, но интереснее хоть как-то привязать ответ к самому вопросу; давайте это сделаем при помощи количества букв в словах. Таким образом, в первую строчку записываем числа:\n",
        "\n",
        "    <количество слов в вопросе> <длина 1 слова> <длина 2 слова> ...\n",
        "    \n",
        "После чего складываем числа по парам: первое со вторым, второе с третьим и так далее, чтобы получилась строчка на 1 элемент короче. Если результат сложения >= 10, вычитаем столько девяток, чтобы получилось однозначное число (9 годится, 10 - нет). Таким же образом обрабатываем вторую получившуюся строку и делаем так, пока не останется одно-единственное число. Если оно четное, ответ \"да\", если нечетное - ответ \"нет\". Таким образом, ответ на \"получу ли я зачет по программированию\" должен быть \"да\". Считаем, что знаков препинания в вопросе нет (или можно использовать свою функцию токенизации из задачи 9)."
      ]
    },
    {
      "cell_type": "code",
      "execution_count": null,
      "metadata": {
        "id": "11dda1d5-8b07-45bf-a7e8-949bdb00d670"
      },
      "outputs": [],
      "source": [
        "def soothsayer(question):\n",
        "  my_string = ''\n",
        "  my_string += str(len(question))\n",
        "  my_string += ' '\n",
        "  for word in question:\n",
        "    my_string += str(len(word))\n",
        "    my_string += ' '\n",
        "  # print(my_string) --> 6 6 2 1 5 2 16\n",
        "\n",
        "  my_list = [int(x) for x in my_string.split()]\n",
        "  # print(my_list) --> [6, 6, 2, 1, 5, 2, 16]\n",
        "\n",
        "  while len(my_list) != 1:\n",
        "    new_list = []\n",
        "    for i in range(len(my_list) - 1):\n",
        "      new_list.append(my_list[i] + my_list[i + 1])\n",
        "    my_list.clear()\n",
        "    my_list = new_list.copy()\n",
        "\n",
        "  # print(new_list) --> [195]\n",
        "\n",
        "  result = new_list[0]\n",
        "  while result > 9:\n",
        "    result = result - 9\n",
        "\n",
        "  # print(result) --> 6\n",
        "\n",
        "  if result % 2 == 0:\n",
        "    print('да')\n",
        "  else:\n",
        "    print('нет')"
      ]
    },
    {
      "cell_type": "code",
      "source": [
        "question = input().split()\n",
        "soothsayer(question)"
      ],
      "metadata": {
        "colab": {
          "base_uri": "https://localhost:8080/"
        },
        "id": "PHYmnAcwYZI9",
        "outputId": "c4ecb171-6f9c-4c4b-e6cd-55a7b75fe6b5"
      },
      "execution_count": null,
      "outputs": [
        {
          "output_type": "stream",
          "name": "stdout",
          "text": [
            "получу ли я зачет по программированию\n",
            "да\n"
          ]
        }
      ]
    },
    {
      "cell_type": "markdown",
      "metadata": {
        "id": "d7dc8211-4d91-49c3-bd53-b6bdcd9fa834"
      },
      "source": [
        "#### Задача 10 (2 балла).\n",
        "\n",
        "Дано натуральное число n. Выведите в порядке возрастания все четырёхзначные числа, сумма цифр которых равна n."
      ]
    },
    {
      "cell_type": "code",
      "execution_count": null,
      "metadata": {
        "colab": {
          "base_uri": "https://localhost:8080/"
        },
        "id": "unRlxDVjTNji",
        "outputId": "6add68ad-86a2-45e6-bec8-21362c0d83a1"
      },
      "outputs": [
        {
          "output_type": "stream",
          "name": "stdout",
          "text": [
            "Введите натуральное число: 3\n",
            "1002\n",
            "1011\n",
            "1020\n",
            "1101\n",
            "1110\n",
            "1200\n",
            "2001\n",
            "2010\n",
            "2100\n",
            "3000\n"
          ]
        }
      ],
      "source": [
        "n = int(input('Введите натуральное число: '))\n",
        "for i in range(1000, 9999):\n",
        "  number_list = [int(x) for x in str(i)]\n",
        "  if sum(number_list) == n:\n",
        "    print(i)"
      ]
    },
    {
      "cell_type": "markdown",
      "metadata": {
        "id": "743939f9-2e44-49bc-87bd-120144951572"
      },
      "source": [
        "#### Задача 12 (2 балла).\n",
        "\n",
        "Дан список целых чисел и целевое число (тоже целое). Функция должна возвращать два индекса чисел из списка, которые в сумме дают целевое число."
      ]
    },
    {
      "cell_type": "code",
      "execution_count": null,
      "metadata": {
        "id": "1ba939a3-0914-4d49-adf2-c86dfb6baeab"
      },
      "outputs": [],
      "source": [
        "def twoSum(nums, target):\n",
        "  for number in range(len(nums) - 1):\n",
        "    for i in range(number + 1, len(nums)):\n",
        "      if nums[number] + nums[i] == target:\n",
        "        print(f'{number}, {i}')\n",
        "      else:\n",
        "        pass\n",
        "\n",
        "assert twoSum(nums = [2, 7, 11, 15], target = 9) == [0, 1]"
      ]
    },
    {
      "cell_type": "code",
      "source": [
        "n_list = [int(x) for x in input().split()]\n",
        "n_target = int(input())\n",
        "twoSum(n_list, n_target)"
      ],
      "metadata": {
        "colab": {
          "base_uri": "https://localhost:8080/"
        },
        "id": "mjKA6yVSpl93",
        "outputId": "fbe11066-c000-47d8-a42c-d1be03a0b35f"
      },
      "execution_count": null,
      "outputs": [
        {
          "output_type": "stream",
          "name": "stdout",
          "text": [
            "2 7 11 15\n",
            "9\n",
            "0, 1\n"
          ]
        }
      ]
    },
    {
      "cell_type": "markdown",
      "metadata": {
        "id": "f9b5c6bc-b6d9-4c24-8368-79a26ce12488"
      },
      "source": [
        "#### Задача 13 (2 балла).\n",
        "\n",
        "Дается большое целое число, представленное как список из его цифр (например, [5, 4, 3, 2, 1] = 54321). Функция должна увеличить это число на один и вернуть его таким же списком."
      ]
    },
    {
      "cell_type": "code",
      "execution_count": null,
      "metadata": {
        "id": "173f8be1-cc83-4d16-9cb2-c9da3f332928"
      },
      "outputs": [],
      "source": [
        "def plusOne(digits):\n",
        "  for i in range(len(digits)-1, -1, -1): # проходимся по всем числам с конца\n",
        "    digits[i] += 1\n",
        "    if digits[i] >= 10:\n",
        "        digits[i] = 0\n",
        "    else:\n",
        "      break\n",
        "\n",
        "  if digits[0] == 0: # если первая цифра >= 10, добавляю 1 в начало списка\n",
        "    digits.insert(0, 1)\n",
        "\n",
        "  return digits\n",
        "\n",
        "assert plusOne([4, 3, 2, 1]) == [4, 3, 2, 2]\n",
        "assert plusOne([9]) == [1, 0]"
      ]
    },
    {
      "cell_type": "code",
      "source": [
        "digits = [int(x) for x in input().split()]\n",
        "plusOne(digits)"
      ],
      "metadata": {
        "colab": {
          "base_uri": "https://localhost:8080/"
        },
        "id": "cUn6UvavpyB4",
        "outputId": "95734556-3413-4fd3-cf6a-5668f272467b"
      },
      "execution_count": null,
      "outputs": [
        {
          "name": "stdout",
          "output_type": "stream",
          "text": [
            "9 8 9\n"
          ]
        },
        {
          "output_type": "execute_result",
          "data": {
            "text/plain": [
              "[9, 9, 0]"
            ]
          },
          "metadata": {},
          "execution_count": 25
        }
      ]
    },
    {
      "cell_type": "markdown",
      "metadata": {
        "tags": [],
        "id": "35d2f1cb-c5c6-4e71-8a67-d70c37f1e6ad"
      },
      "source": [
        "#### Задача 14.\n",
        "\n",
        "Дан текстовый файл. Нужно посчитать статистику встречающихся в этом файле символов: какой символ с какой частотностью встречается."
      ]
    },
    {
      "cell_type": "code",
      "source": [
        "my_path = input()\n",
        "\n",
        "with open(my_path, 'r', encoding = 'utf8') as file:\n",
        "  text = file.read()\n",
        "\n",
        "my_dict = {}\n",
        "for symb in text:\n",
        "  if symb not in my_dict:\n",
        "    my_dict[symb] = 1\n",
        "  else:\n",
        "    my_dict[symb] += 1\n",
        "\n",
        "print(my_dict)"
      ],
      "metadata": {
        "colab": {
          "base_uri": "https://localhost:8080/"
        },
        "id": "vf9QDS-u3OvL",
        "outputId": "abfcf8a9-6045-48bc-d4bc-2247e62eb283"
      },
      "execution_count": null,
      "outputs": [
        {
          "output_type": "stream",
          "name": "stdout",
          "text": [
            "/checkov.txt\n",
            "{'А': 2, 'н': 162, 'т': 193, 'о': 266, ' ': 511, 'П': 9, 'а': 185, 'в': 123, 'л': 122, 'и': 199, 'ч': 48, 'Ч': 5, 'е': 246, 'х': 29, '\\n': 37, 'Б': 2, 'с': 142, 'д': 71, 'п': 76, 'ь': 60, 'я': 55, 'г': 33, 'р': 105, 'з': 42, 'ы': 56, 'м': 80, 'ё': 13, 'ш': 25, 'й': 25, 'к': 87, 'у': 82, ',': 60, 'ж': 36, 'Л': 6, 'б': 35, 'ц': 7, 'ю': 25, '.': 23, 'В': 7, '-': 6, '…': 33, 'Н': 5, '?': 8, 'Э': 3, 'l': 1, 'a': 1, 'К': 4, 'Т': 4, 'щ': 10, '—': 21, '\\xa0': 15, 'С': 8, 'ф': 2, 'Я': 2, '!': 4, 'О': 3, '«': 2, 'Р': 3, '»': 2, 'М': 2, 'э': 2, 'И': 4, 'Д': 1, ':': 1, 'Ш': 1, 'Ж': 1, 'Ц': 1}\n"
          ]
        }
      ]
    },
    {
      "cell_type": "markdown",
      "metadata": {
        "id": "01505357-b3cd-49bc-a52a-fc08cf465b73"
      },
      "source": [
        "#### Задача 15.\n",
        "\n",
        "Напишите программу, которая будет ждать от пользователя ввода имени файла (мы для простоты предполагаем, что файл лежит в одной папке со скриптом); когда имя файла введено, мы предполагаем, что в нашей папке есть такой файл с расширением .txt, программа должна открыть его и вывести частотный список встретившихся слов (печатать на экран нужно только 10 самых частотных). Слова придется выделять отдельной функцией (сторонними библиотеками пользоваться пока тоже запрещается, можно только os)."
      ]
    },
    {
      "cell_type": "code",
      "execution_count": null,
      "metadata": {
        "id": "4b2af0c5-8654-4e3d-950a-d0aa96d9d843"
      },
      "outputs": [],
      "source": [
        "def words(path):\n",
        "  # функция возвращает список слов\n",
        "  from string import punctuation\n",
        "  text = []\n",
        "  with open(path, 'r', encoding = 'utf8') as file:\n",
        "    for line in file:\n",
        "      text.extend([word.strip(punctuation) for word in line.lower().split()])\n",
        "\n",
        "  for word in text: # так как в этом Чехове есть элементы пунктуации, которые не удаляются с помощью string, уберу их опять вручную\n",
        "    if word == '—':\n",
        "      text.remove(word)\n",
        "  for i in range(len(text)):\n",
        "    if text[i][-1] == '…':\n",
        "      text[i] = text[i].replace('…', '')\n",
        "    if text[i][-1] == '»':\n",
        "      text[i] = text[i].replace('»', '')\n",
        "\n",
        "  return text\n",
        "\n",
        "\n",
        "def statistics(text):\n",
        "  # основная функция для подсчета частотного списка\n",
        "  my_dict = {}\n",
        "  for word in text:\n",
        "    if word not in my_dict:\n",
        "      my_dict[word] = 1\n",
        "    else:\n",
        "      my_dict[word] += 1\n",
        "\n",
        "  sorted_dict = sorted(my_dict.items(), key=lambda item: item[1], reverse=True)\n",
        "  print(sorted_dict[0:10])\n",
        "\n"
      ]
    },
    {
      "cell_type": "code",
      "source": [
        "my_path = input()\n",
        "\n",
        "text = words(my_path)\n",
        "statistics(text)"
      ],
      "metadata": {
        "colab": {
          "base_uri": "https://localhost:8080/"
        },
        "id": "yG37XNyFAaO8",
        "outputId": "bd477539-d44a-4419-aabe-fe9ec786127f"
      },
      "execution_count": null,
      "outputs": [
        {
          "output_type": "stream",
          "name": "stdout",
          "text": [
            "/checkov.txt\n",
            "[('и', 23), ('не', 11), ('в', 11), ('чёрт', 9), ('вы', 9), ('он', 7), ('с', 6), ('у', 6), ('мы', 6), ('на', 5)]\n"
          ]
        }
      ]
    }
  ]
}