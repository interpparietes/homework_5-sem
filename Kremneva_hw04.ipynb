{
  "cells": [
    {
      "cell_type": "markdown",
      "metadata": {
        "id": "cf7f3284-137d-49bc-b4fe-69a57ecbddb6"
      },
      "source": [
        "#### Задача 9.\n",
        "\n",
        "Пользователь что-то вводит в строке. Напишите функцию проверки, которая будет пытаться из введенной строки вернуть слово без приклеившейся пунктуации, а если не получается, то вернет None.\n",
        "\n",
        "Например:\n",
        "\n",
        "    мама, => мама\n",
        "    красно-зеленый! => красно-зеленый\n",
        "    123! => None"
      ],
      "id": "cf7f3284-137d-49bc-b4fe-69a57ecbddb6"
    },
    {
      "cell_type": "code",
      "source": [
        "def token(text):\n",
        "  alphabet = 'абвгдеёжзийклмнопрстуфхцчшщъыьэюя'\n",
        "  punctuation = '.—,;:!?()\"\\')'\n",
        "  new_text = ''\n",
        "  for char in text:\n",
        "    if char in punctuation:\n",
        "      new_text = text.lower().replace(char, '')\n",
        "  if new_text.isdigit():\n",
        "    return None\n",
        "  else:\n",
        "    return new_text\n",
        "\n",
        "print(token('123!'))"
      ],
      "metadata": {
        "id": "quihuNDYKNYR"
      },
      "id": "quihuNDYKNYR",
      "execution_count": null,
      "outputs": []
    },
    {
      "cell_type": "markdown",
      "id": "fb0eb8fc-2ec3-404e-bd49-bb194ab99d36",
      "metadata": {
        "id": "fb0eb8fc-2ec3-404e-bd49-bb194ab99d36"
      },
      "source": [
        "#### Задача 1.\n",
        "\n",
        "Напишите функцию, которая делает то же, что функция в семинарской задаче 1, но используйте рекурсию."
      ]
    },
    {
      "cell_type": "markdown",
      "source": [],
      "metadata": {
        "id": "WYZidAQ0Utkh"
      },
      "id": "WYZidAQ0Utkh"
    },
    {
      "cell_type": "code",
      "execution_count": null,
      "id": "f94da827-50f3-4bd9-82c5-c6913681f285",
      "metadata": {
        "id": "f94da827-50f3-4bd9-82c5-c6913681f285"
      },
      "outputs": [],
      "source": [
        "def expon(a, b):\n",
        "  if b == 1:\n",
        "    return a\n",
        "  return a * expon(a, b-1)\n",
        "\n",
        "expon(4, 3)"
      ]
    },
    {
      "cell_type": "markdown",
      "id": "0f66f844-8d9e-4cd5-83bd-f5c73e0d6ad5",
      "metadata": {
        "id": "0f66f844-8d9e-4cd5-83bd-f5c73e0d6ad5"
      },
      "source": [
        "#### Задача 2.\n",
        "\n",
        "Напишите функцию, которая выводит таблицу умножения. Отформатируйте вывод таким образом, чтобы образовалась сеточка из чисел:\n",
        "\n",
        "    1 2 3 4  5\n",
        "    2 4 6 8 10\n",
        "    ...\n",
        "\n",
        "(Мы с вами подобное уже, кажется, делали, теперь достаточно оформить именно в функцию, чтобы можно было рисовать сеточку не до 9, а до такого числа, какое мы в функцию передадим)."
      ]
    },
    {
      "cell_type": "code",
      "execution_count": null,
      "id": "dfedf943-0edb-457d-9f5d-7c04f0c1e133",
      "metadata": {
        "id": "dfedf943-0edb-457d-9f5d-7c04f0c1e133"
      },
      "outputs": [],
      "source": [
        "def multi_table(number):\n",
        "  for i in range(1, number + 1):\n",
        "    for k in range(1, number + 1):\n",
        "      print(i*k, end = '\\t')\n",
        "    print()\n",
        "\n",
        "multi_table(5)"
      ]
    },
    {
      "cell_type": "markdown",
      "id": "137562ee-4f17-464f-a1a6-1b392ef030c2",
      "metadata": {
        "id": "137562ee-4f17-464f-a1a6-1b392ef030c2"
      },
      "source": [
        "#### Задача 3.\n",
        "\n",
        "Напишите функцию, которая будет принимать числа a и b, делить их и выводить ответ в формате a / b = c, при этом число c должно быть округлено до двух знаков после запятой. Если знаете варианты, как это можно сделать, напишите варианты."
      ]
    },
    {
      "cell_type": "code",
      "execution_count": null,
      "id": "3ea74a52-0156-4d38-a6c3-0861dd912af5",
      "metadata": {
        "id": "3ea74a52-0156-4d38-a6c3-0861dd912af5"
      },
      "outputs": [],
      "source": [
        "def division_round(a, b):\n",
        "  c = round((a / b), 2)\n",
        "  print(a, '/', b, '=', c)\n",
        "\n",
        "division_round(999, 567)"
      ]
    },
    {
      "cell_type": "code",
      "source": [
        "def division_round_2(a, b):\n",
        "  c = str(a / b)\n",
        "  comma = c.find('.')\n",
        "  if int(c[comma + 3]) >= 5:\n",
        "    print(a, '/', b, '=', float(c[:(comma + 3)]) + 0.01)\n",
        "  else:\n",
        "    print(a, '/', b, '=', float(c[:(comma + 3)]))\n",
        "\n",
        "division_round_2(999, 567)"
      ],
      "metadata": {
        "id": "YmHQztMC7uPj"
      },
      "id": "YmHQztMC7uPj",
      "execution_count": null,
      "outputs": []
    },
    {
      "cell_type": "markdown",
      "id": "5e19557e-685a-4d30-bba8-291401f65f3a",
      "metadata": {
        "id": "5e19557e-685a-4d30-bba8-291401f65f3a"
      },
      "source": [
        "#### Задача 4.\n",
        "\n",
        "Напишите функцию для подсчета букв в слове: пользователь вводит какую-то строку, а функция должна в форматированном виде вывести, сколько раз встретилась та или иная буква, например:\n",
        "\n",
        "    >>> 'ABBYY'\n",
        "    'A': 1\n",
        "    'B': 2\n",
        "    'Y': 2"
      ]
    },
    {
      "cell_type": "code",
      "source": [
        "def count_letters():\n",
        "  text = input()\n",
        "  new_text = ''\n",
        "  for char in text:\n",
        "    if char not in new_text:\n",
        "      new_text += char\n",
        "  for i in new_text:\n",
        "    print(\"'\" + i + \"'\" + ':', text.count(i))\n",
        "\n",
        "count_letters()"
      ],
      "metadata": {
        "id": "dFMW4CMZe4kI"
      },
      "id": "dFMW4CMZe4kI",
      "execution_count": null,
      "outputs": []
    }
  ],
  "metadata": {
    "kernelspec": {
      "display_name": "Python 3 (ipykernel)",
      "language": "python",
      "name": "python3"
    },
    "language_info": {
      "codemirror_mode": {
        "name": "ipython",
        "version": 3
      },
      "file_extension": ".py",
      "mimetype": "text/x-python",
      "name": "python",
      "nbconvert_exporter": "python",
      "pygments_lexer": "ipython3",
      "version": "3.9.12"
    },
    "colab": {
      "provenance": []
    }
  },
  "nbformat": 4,
  "nbformat_minor": 5
}