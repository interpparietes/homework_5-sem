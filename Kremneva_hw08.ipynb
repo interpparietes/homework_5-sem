{
  "cells": [
    {
      "cell_type": "markdown",
      "metadata": {
        "id": "808654c4-5d99-467d-bac9-4074ead39d87"
      },
      "source": [
        "Задача 2.\n",
        "\n",
        "Превратим англо-русский словарь в русско-английский. В исходном англо-русском словаре для одного английского слова могут идти в алфавитном порядке русские варианты перевода:\n",
        "\n",
        "    'call': ['звать', 'звонить', 'называть']\n",
        "\n",
        "Может быть и такая ситуация, что одно и то же русское слово встречается в переводах двух английских слов:\n",
        "\n",
        "    'name': ['имя', 'называть']\n",
        "\n",
        "Наш русско-английский словарь должен правильно перевернуться: не потерять ни одного перевода, при этом английские переводы тоже должны быть в алфавитном порядке. Программа должна вывести новый словарь на экран: русские слова должны быть отсортированы, как и их переводы."
      ],
      "id": "808654c4-5d99-467d-bac9-4074ead39d87"
    },
    {
      "cell_type": "code",
      "source": [
        "# семинарская задача № 2\n",
        "\n",
        "from collections import defaultdict\n",
        "eng_rus = { 'name': ['имя', 'называть'], 'call': ['звать', 'звонить', 'называть']}\n",
        "rus_eng = defaultdict(list)\n",
        "\n",
        "for key, value in eng_rus.items():\n",
        "  for x in value:\n",
        "    rus_eng[x].append(key)\n",
        "    rus_eng[x] = sorted(rus_eng[x])\n",
        "\n",
        "sorted__dict = sorted(dict(rus_eng).items())\n",
        "\n",
        "print(dict(sorted__dict))"
      ],
      "metadata": {
        "colab": {
          "base_uri": "https://localhost:8080/"
        },
        "id": "DcWn_AMM_Gyv",
        "outputId": "934eb4a5-89a5-44cb-e8b0-c0a3c1b09682"
      },
      "id": "DcWn_AMM_Gyv",
      "execution_count": null,
      "outputs": [
        {
          "output_type": "stream",
          "name": "stdout",
          "text": [
            "{'звать': ['call'], 'звонить': ['call'], 'имя': ['name'], 'называть': ['call', 'name']}\n"
          ]
        }
      ]
    },
    {
      "cell_type": "markdown",
      "metadata": {
        "id": "989462d4-c74c-4bc1-b8cc-0b5d15f39017"
      },
      "source": [
        "Задача 5 (2 балла)\n",
        "\n",
        "В ячейке представлен автоматический морфологический разбор предложения. Изучите этот разбор. Посчитайте, сколько в нем словарей, выведите, какие у словарей есть ключи.\n",
        "\n",
        "Посчитайте, сколько в предложении слов.\n",
        "\n",
        "Попробуйте посчитать, сколько там глаголов и существительных (это можно сделать с помощью str.startswith() - метода строки, который проверяет, что строчка начинается на аргумент этого метода).\n",
        "\n",
        "Подумайте, что означают слова со значением ключа bastard?"
      ],
      "id": "989462d4-c74c-4bc1-b8cc-0b5d15f39017"
    },
    {
      "cell_type": "code",
      "execution_count": null,
      "metadata": {
        "id": "bd85eca6-238b-4f6c-bd93-b67eaad398ba"
      },
      "outputs": [],
      "source": [
        "analyze = [{'analysis': [{'lex': 'это', 'gr': 'SPRO,ед,сред,неод=(вин|им)'}], 'text': 'Это'}, {'text': ' '},\n",
        "           {'analysis': [{'lex': 'быть', 'gr': 'V,нп=прош,ед,изъяв,сред,несов'}], 'text': 'было'}, {'text': ' '},\n",
        "           {'analysis': [{'lex': 'у', 'gr': 'PR='}], 'text': 'у'}, {'text': ' '},\n",
        "           {'analysis': [{'lex': 'место', 'gr': 'S,сред,неод=(вин,мн|род,ед|им,мн)'}], 'text': 'места'}, {'text': ', '},\n",
        "           {'analysis': [{'lex': 'потому', 'gr': 'ADVPRO='}], 'text': 'потому'}, {'text': ' '},\n",
        "           {'analysis': [{'lex': 'что', 'gr': 'CONJ='}], 'text': 'что'}, {'text': ' '},\n",
        "           {'analysis': [{'lex': 'фемистоклюс', 'qual': 'bastard', 'gr': 'S,фам,муж,од=им,ед'}], 'text': 'Фемистоклюс'}, {'text': ' '},\n",
        "           {'analysis': [{'lex': 'укусить', 'gr': 'V,сов,пе=прош,ед,изъяв,муж'}], 'text': 'укусил'}, {'text': ' '},\n",
        "           {'analysis': [{'lex': 'за', 'gr': 'PR='}], 'text': 'за'}, {'text': ' '},\n",
        "           {'analysis': [{'lex': 'ухо', 'gr': 'S,сред,неод=(вин,ед|им,ед)'}], 'text': 'ухо'}, {'text': ' '},\n",
        "           {'analysis': [{'lex': 'алкид', 'qual': 'bastard', 'gr': 'S,муж,неод=род,ед'}], 'text': 'Алкида'}, {'text': ', '},\n",
        "           {'analysis': [{'lex': 'и', 'gr': 'CONJ='}], 'text': 'и'}, {'text': ' '},\n",
        "           {'analysis': [{'lex': 'алкид', 'qual': 'bastard', 'gr': 'S,муж,неод=(вин,ед|им,ед)'}], 'text': 'Алкид'}, {'text': ', '},\n",
        "           {'analysis': [{'lex': 'зажмуривать', 'gr': 'V,пе=прош,деепр,сов'}], 'text': 'зажмурив'}, {'text': ' '},\n",
        "           {'analysis': [{'lex': 'глаз', 'gr': 'S,муж,неод=(вин,мн|род,ед|им,мн)'}], 'text': 'глаза'}, {'text': ' '},\n",
        "           {'analysis': [{'lex': 'и', 'gr': 'CONJ='}], 'text': 'и'}, {'text': ' '},\n",
        "           {'analysis': [{'lex': 'открывать', 'gr': 'V=прош,деепр,сов'}], 'text': 'открыв'}, {'text': ' '},\n",
        "           {'analysis': [{'lex': 'рот', 'gr': 'S,муж,неод=(вин,ед|им,ед)'}], 'text': 'рот'}, {'text': ', '},\n",
        "           {'analysis': [{'lex': 'готовый', 'gr': 'A=ед,кр,муж'}], 'text': 'готов'}, {'text': ' '},\n",
        "           {'analysis': [{'lex': 'быть', 'gr': 'V,нп=прош,ед,изъяв,муж,несов'}], 'text': 'был'}, {'text': ' '},\n",
        "           {'analysis': [{'lex': 'зарыдать', 'gr': 'V,сов,нп=инф'}], 'text': 'зарыдать'}, {'text': ' '},\n",
        "           {'analysis': [{'lex': 'самый', 'gr': 'APRO=(дат,мн|твор,ед,муж|твор,ед,сред)'}], 'text': 'самым'}, {'text': ' '},\n",
        "           {'analysis': [{'lex': 'жалкий', 'gr': 'A=(дат,мн,полн|твор,ед,полн,муж|твор,ед,полн,сред)'}], 'text': 'жалким'}, {'text': ' '},\n",
        "           {'analysis': [{'lex': 'образ', 'gr': 'S,муж,неод=твор,ед'}], 'text': 'образом'}, {'text': ', '},\n",
        "           {'analysis': [{'lex': 'но', 'gr': 'CONJ='}], 'text': 'но'}, {'text': ', '}, {'analysis': [{'lex': 'почувствовать', 'gr': 'V,сов,пе=прош,деепр'}], 'text': 'почувствовав'}, {'text': ', '},\n",
        "           {'analysis': [{'lex': 'что', 'gr': 'CONJ='}], 'text': 'что'}, {'text': ' '},\n",
        "           {'analysis': [{'lex': 'за', 'gr': 'PR='}], 'text': 'за'}, {'text': ' '},\n",
        "           {'analysis': [{'lex': 'это', 'gr': 'SPRO,ед,сред,неод=(вин|им)'}], 'text': 'это'}, {'text': ' '},\n",
        "           {'analysis': [{'lex': 'легко', 'gr': 'ADV='}], 'text': 'легко'}, {'text': ' '},\n",
        "           {'analysis': [{'lex': 'можно', 'gr': 'ADV,прдк='}], 'text': 'можно'}, {'text': ' '},\n",
        "           {'analysis': [{'lex': 'быть', 'gr': 'V,нп=прош,ед,изъяв,сред,несов'}], 'text': 'было'}, {'text': ' '},\n",
        "           {'analysis': [{'lex': 'лишаться', 'gr': 'V,нп=инф,сов'}], 'text': 'лишиться'}, {'text': ' '},\n",
        "           {'analysis': [{'lex': 'блюдо', 'gr': 'S,сред,неод=(вин,мн|род,ед|им,мн)'}], 'text': 'блюда'}, {'text': ', '},\n",
        "           {'analysis': [{'lex': 'приводить', 'gr': 'V=прош,ед,изъяв,муж,сов'}], 'text': 'привел'}, {'text': ' '},\n",
        "           {'analysis': [{'lex': 'рот', 'gr': 'S,муж,неод=(вин,ед|им,ед)'}], 'text': 'рот'}, {'text': ' '},\n",
        "           {'analysis': [{'lex': 'в', 'gr': 'PR='}], 'text': 'в'}, {'text': ' '},\n",
        "           {'analysis': [{'lex': 'прежний', 'gr': 'A=(вин,ед,полн,сред|им,ед,полн,сред)'}], 'text': 'прежнее'}, {'text': ' '},\n",
        "           {'analysis': [{'lex': 'положение', 'gr': 'S,сред,неод=(вин,ед|им,ед)'}], 'text': 'положение'}, {'text': ' '},\n",
        "           {'analysis': [{'lex': 'и', 'gr': 'CONJ='}], 'text': 'и'}, {'text': ' '},\n",
        "           {'analysis': [{'lex': 'начинать', 'gr': 'V,пе=прош,ед,изъяв,муж,сов'}], 'text': 'начал'}, {'text': ' '},\n",
        "           {'analysis': [{'lex': 'со', 'gr': 'PR='}], 'text': 'со'}, {'text': ' '},\n",
        "           {'analysis': [{'lex': 'слеза', 'gr': 'S,жен,неод=твор,мн'}], 'text': 'слезами'}, {'text': ' '},\n",
        "           {'analysis': [{'lex': 'грызть', 'gr': 'V,несов,пе=инф'}], 'text': 'грызть'}, {'text': ' '},\n",
        "           {'analysis': [{'lex': 'бараний', 'gr': 'A,полн=вин,ед,жен'}], 'text': 'баранью'}, {'text': ' '},\n",
        "           {'analysis': [{'lex': 'кость', 'gr': 'S,жен,неод=(вин,ед|им,ед)'}], 'text': 'кость'}, {'text': ', '},\n",
        "           {'analysis': [{'lex': 'от', 'gr': 'PR='}], 'text': 'от'}, {'text': ' '},\n",
        "           {'analysis': [{'lex': 'который', 'gr': 'APRO=(пр,ед,жен|дат,ед,жен|род,ед,жен|твор,ед,жен)'}], 'text': 'которой'}, {'text': ' '},\n",
        "           {'analysis': [{'lex': 'у', 'gr': 'PR='}], 'text': 'у'}, {'text': ' '},\n",
        "           {'analysis': [{'lex': 'он', 'gr': 'SPRO,ед,3-л,муж=(вин|род)'}], 'text': 'него'}, {'text': ' '},\n",
        "           {'analysis': [{'lex': 'оба', 'gr': 'NUM=(им,жен|вин,жен,неод)'}], 'text': 'обе'}, {'text': ' '},\n",
        "           {'analysis': [{'lex': 'щека', 'gr': 'S,жен,неод=(вин,мн|род,ед|им,мн)'}], 'text': 'щеки'}, {'text': ' '},\n",
        "           {'analysis': [{'lex': 'лосниться', 'gr': 'V,несов,нп=прош,мн,изъяв'}], 'text': 'лоснились'}, {'text': ' '},\n",
        "           {'analysis': [{'lex': 'жир', 'gr': 'S,муж,неод=твор,ед'}], 'text': 'жиром'}, {'text': '.'}, {'text': '\\n'}]\n"
      ],
      "id": "bd85eca6-238b-4f6c-bd93-b67eaad398ba"
    },
    {
      "cell_type": "code",
      "source": [
        "# семинарская задача № 5\n",
        "# bastard - приписывается, когда он не может определить часть речи??\n",
        "\n",
        "keys_list = [] # здесь буду собирать уникальные ключи\n",
        "word_number = 0\n",
        "V = 0\n",
        "S = 0\n",
        "\n",
        "dict_num = len(analyze) # посчитаем сначала, сколько словарей в начальном списке\n",
        "\n",
        "for my_dict in analyze:\n",
        "  for key, value in my_dict.items():\n",
        "    if type(value) == dict: # теперь посчитаем, сколько значений в этих словарях являются словарями (такого вроде нет, но пусть будет на всякий случай)\n",
        "      dict_num += 1\n",
        "    if key not in keys_list:\n",
        "      keys_list.append(key)\n",
        "    if type(value) == list: # посчитаем, сколько есть словарей в списках\n",
        "       for elem in value:\n",
        "        if type(elem) == dict:\n",
        "          dict_num += 1\n",
        "          for key, value in elem.items():\n",
        "            if value.startswith('S'): # считаем существительные\n",
        "              S =+ 1\n",
        "            if value.startswith('V'): # считаем глаголы\n",
        "              V += 1\n",
        "            if key not in keys_list:\n",
        "              keys_list.append(key)\n",
        "            if key == 'lex': # считаем слова\n",
        "              word_number += 1\n",
        "\n",
        "print(f'В разборе {dict_num} словаря.')\n",
        "print(f'Ключи - {keys_list}.')\n",
        "print(f'Слов в предложении - {word_number}. Среди них существительных - {S}, глаголов - {V}.')\n",
        "\n",
        "# глаголы посчитались правильно, а существительные нет))"
      ],
      "metadata": {
        "colab": {
          "base_uri": "https://localhost:8080/"
        },
        "id": "WouG4nMDK3GJ",
        "outputId": "6f921b9f-b677-4b0d-ba95-b680e9b23266"
      },
      "id": "WouG4nMDK3GJ",
      "execution_count": 44,
      "outputs": [
        {
          "output_type": "stream",
          "name": "stdout",
          "text": [
            "В разборе 163 словаря.\n",
            "Ключи - ['analysis', 'lex', 'gr', 'text', 'qual'].\n",
            "Слов в предложении - 54. Среди них существительных - 1, глаголов - 13.\n"
          ]
        }
      ]
    },
    {
      "cell_type": "markdown",
      "id": "9555efc4-2dc8-4177-8331-204d121f0890",
      "metadata": {
        "id": "9555efc4-2dc8-4177-8331-204d121f0890"
      },
      "source": [
        "#### Задача 1.\n",
        "\n",
        "Напишите функцию, которая будет принимать числа от 1 до 10 и заменять их на слова: 1 = один, 2 = два и т.п."
      ]
    },
    {
      "cell_type": "code",
      "execution_count": null,
      "id": "f99183b7-1308-46cf-a41b-aa2420b67aff",
      "metadata": {
        "id": "f99183b7-1308-46cf-a41b-aa2420b67aff",
        "colab": {
          "base_uri": "https://localhost:8080/"
        },
        "outputId": "328b2b61-0e67-4534-f62a-69ce5c2196d6"
      },
      "outputs": [
        {
          "output_type": "stream",
          "name": "stdout",
          "text": [
            "1\n",
            "один\n",
            "10\n",
            "десять\n",
            "4\n",
            "четыре\n",
            "11\n",
            "ваше число не входит в промежуток!\n"
          ]
        }
      ],
      "source": [
        "def number_to_words():\n",
        "  words = ['один', 'два', 'три', 'четыре', 'пять', 'шесть', 'семь', 'восемь', 'девять', 'десять']\n",
        "  num_dict = dict(zip([x for x in range(1, 11)], words))\n",
        "  while True:\n",
        "    n = int(input())\n",
        "    if n < 1 or n > 10:\n",
        "      print('ваше число не входит в промежуток!')\n",
        "      break\n",
        "    print(num_dict.get(n))\n",
        "\n",
        "number_to_words()"
      ]
    },
    {
      "cell_type": "markdown",
      "id": "d73cc5c4-f932-41d9-b5af-43134d18da10",
      "metadata": {
        "id": "d73cc5c4-f932-41d9-b5af-43134d18da10"
      },
      "source": [
        "#### Задача 2.\n",
        "\n",
        "Скрэмбл. Пользователь вводит две строки (в каждой строке какое-то слово). Напишите функцию, которая будет проверять, что из букв строки 1 можно составить слово в строке 2, причем количество букв тоже нужно учитывать: нельзя составить слово \"мама\" из слова \"марокко\". Функция должна возвращать True или False. Вам помогут какие-то словари."
      ]
    },
    {
      "cell_type": "code",
      "source": [
        "from collections import Counter\n",
        "\n",
        "def scramble():\n",
        "  word_1 = list(input().lower())\n",
        "  word_2 = list(input().lower())\n",
        "  dict_1 = Counter(word_1)\n",
        "  for letter in word_2:\n",
        "    if letter not in dict_1:\n",
        "      return False\n",
        "    if dict_1[letter] - 1 >= 0:\n",
        "      dict_1[letter] -= 1\n",
        "    else:\n",
        "      return False\n",
        "  return True\n",
        "\n",
        "print(scramble())"
      ],
      "metadata": {
        "colab": {
          "base_uri": "https://localhost:8080/"
        },
        "id": "fsJB66xOAbou",
        "outputId": "8eae28bd-700b-4eec-e6dd-13d72cf93246"
      },
      "id": "fsJB66xOAbou",
      "execution_count": null,
      "outputs": [
        {
          "output_type": "stream",
          "name": "stdout",
          "text": [
            "марокко\n",
            "мама\n",
            "False\n"
          ]
        }
      ]
    },
    {
      "cell_type": "markdown",
      "id": "b6d18e03-eea5-48c3-99ad-c021e54fa7d8",
      "metadata": {
        "id": "b6d18e03-eea5-48c3-99ad-c021e54fa7d8"
      },
      "source": [
        "#### Задача 3.\n",
        "\n",
        "Выборы в США (http://pythontutor.ru/lessons/dicts/problems/usa_elections/ - советую посмотреть там (на сайте нужно зарегистрироваться), там можно найти примеры работы программы).\n",
        "\n",
        "Как известно, в США президент выбирается не прямым голосованием, а путем двухуровневого голосования. Сначала проводятся выборы в каждом штате и определяется победитель выборов в данном штате. Затем проводятся государственные выборы: на этих выборах каждый штат имеет определенное число голосов — число выборщиков от этого штата. На практике, все выборщики от штата голосуют в соответствии с результами голосования внутри штата, то есть на заключительной стадии выборов в голосовании участвуют штаты, имеющие различное число голосов.\n",
        "\n",
        "В первой строке дано количество записей. Далее, каждая запись содержит фамилию кандидата и число голосов, отданных за него в одном из штатов. Подведите итоги выборов: для каждого из участника голосования определите число отданных за него голосов. Участников нужно выводить в алфавитном порядке."
      ]
    },
    {
      "cell_type": "code",
      "execution_count": null,
      "id": "d7141b18-855f-4a79-ac07-8fe30e6556d8",
      "metadata": {
        "id": "d7141b18-855f-4a79-ac07-8fe30e6556d8",
        "colab": {
          "base_uri": "https://localhost:8080/"
        },
        "outputId": "e9001b5e-9fba-46c3-9b4d-e99f1e961861"
      },
      "outputs": [
        {
          "output_type": "stream",
          "name": "stdout",
          "text": [
            "5\n",
            "McCain 10\n",
            "McCain 5\n",
            "Obama 9\n",
            "Obama 8\n",
            "McCain 1\n",
            "McCain: 16\n",
            "Obama: 17\n"
          ]
        }
      ],
      "source": [
        "elect_dict = {}\n",
        "\n",
        "for _ in range(int(input())):\n",
        "  text = input().split()\n",
        "  if text[0] not in elect_dict:\n",
        "    elect_dict[text[0]] = int(text[1])\n",
        "  else:\n",
        "    elect_dict[text[0]] += int(text[1])\n",
        "\n",
        "sorted_elect_dict = sorted(elect_dict.items())\n",
        "\n",
        "for k, v in sorted_elect_dict:\n",
        "  print(f'{k}: {v}')"
      ]
    },
    {
      "cell_type": "markdown",
      "id": "b6ca5429-234c-4a8a-b68b-d23f5aec2921",
      "metadata": {
        "id": "b6ca5429-234c-4a8a-b68b-d23f5aec2921"
      },
      "source": [
        "#### Задача 4.\n",
        "\n",
        "Продажи (http://pythontutor.ru/lessons/dicts/problems/sales/)\n",
        "\n",
        "Дана база данных о продажах некоторого интернет-магазина. Каждая строка входного файла представляет собой запись вида Покупатель товар количество, где Покупатель — имя покупателя (строка без пробелов), товар — название товара (строка без пробелов), количество — количество приобретенных единиц товара.\n",
        "\n",
        "Создайте список всех покупателей, а для каждого покупателя подсчитайте количество приобретенных им единиц каждого вида товаров. Список покупателей, а также список товаров для каждого покупателя нужно выводить в лексикографическом порядке."
      ]
    },
    {
      "cell_type": "code",
      "source": [
        "buyer_dict = {}\n",
        "\n",
        "while True:\n",
        "  text = input().split()\n",
        "  if text == '':\n",
        "    break\n",
        "  buyer = text[0]  # здесь вылезает ошибка \"list index out of range\", не понимаю, почему... из-за пустого списка?\n",
        "  product = text[1]\n",
        "  n = text[2]\n",
        "  if buyer not in buyer_dict:\n",
        "    buyer_dict[buyer] = {product : int(n)}\n",
        "  else:\n",
        "    buyer_dict[buyer][product] = buyer_dict[buyer].get(product, 0) + int(n)\n",
        "\n",
        "for buyer, product in sorted(buyer_dict().items):\n",
        "  print(buyer, ':')\n",
        "  for product, n in sorted(buyer_dict[buyer].items()):\n",
        "    print(product, n)"
      ],
      "metadata": {
        "colab": {
          "base_uri": "https://localhost:8080/",
          "height": 366
        },
        "id": "Nb5AEnxx2tVz",
        "outputId": "4d2b2b14-2e55-46fe-df7a-cd1cfe548a51"
      },
      "id": "Nb5AEnxx2tVz",
      "execution_count": null,
      "outputs": [
        {
          "name": "stdout",
          "output_type": "stream",
          "text": [
            "Ivanov paper 10\n",
            "Petrov pens 5\n",
            "Ivanov marker 3\n",
            "Ivanov paper 7\n",
            "Petrov envelope 20\n",
            "Ivanov envelope 5\n",
            "\n"
          ]
        },
        {
          "output_type": "error",
          "ename": "IndexError",
          "evalue": "ignored",
          "traceback": [
            "\u001b[0;31m---------------------------------------------------------------------------\u001b[0m",
            "\u001b[0;31mIndexError\u001b[0m                                Traceback (most recent call last)",
            "\u001b[0;32m<ipython-input-18-6e1636dc7977>\u001b[0m in \u001b[0;36m<cell line: 3>\u001b[0;34m()\u001b[0m\n\u001b[1;32m      5\u001b[0m   \u001b[0;32mif\u001b[0m \u001b[0mtext\u001b[0m \u001b[0;34m==\u001b[0m \u001b[0;34m''\u001b[0m\u001b[0;34m:\u001b[0m\u001b[0;34m\u001b[0m\u001b[0;34m\u001b[0m\u001b[0m\n\u001b[1;32m      6\u001b[0m     \u001b[0;32mbreak\u001b[0m\u001b[0;34m\u001b[0m\u001b[0;34m\u001b[0m\u001b[0m\n\u001b[0;32m----> 7\u001b[0;31m   \u001b[0mbuyer\u001b[0m \u001b[0;34m=\u001b[0m \u001b[0mtext\u001b[0m\u001b[0;34m[\u001b[0m\u001b[0;36m0\u001b[0m\u001b[0;34m]\u001b[0m  \u001b[0;31m# здесь вылезает ошибка \"list index out of range\", не понимаю, почему.... или это из-за пустого списка?\u001b[0m\u001b[0;34m\u001b[0m\u001b[0;34m\u001b[0m\u001b[0m\n\u001b[0m\u001b[1;32m      8\u001b[0m   \u001b[0mproduct\u001b[0m \u001b[0;34m=\u001b[0m \u001b[0mtext\u001b[0m\u001b[0;34m[\u001b[0m\u001b[0;36m1\u001b[0m\u001b[0;34m]\u001b[0m\u001b[0;34m\u001b[0m\u001b[0;34m\u001b[0m\u001b[0m\n\u001b[1;32m      9\u001b[0m   \u001b[0mn\u001b[0m \u001b[0;34m=\u001b[0m \u001b[0mtext\u001b[0m\u001b[0;34m[\u001b[0m\u001b[0;36m2\u001b[0m\u001b[0;34m]\u001b[0m\u001b[0;34m\u001b[0m\u001b[0;34m\u001b[0m\u001b[0m\n",
            "\u001b[0;31mIndexError\u001b[0m: list index out of range"
          ]
        }
      ]
    }
  ],
  "metadata": {
    "kernelspec": {
      "display_name": "Python 3 (ipykernel)",
      "language": "python",
      "name": "python3"
    },
    "language_info": {
      "codemirror_mode": {
        "name": "ipython",
        "version": 3
      },
      "file_extension": ".py",
      "mimetype": "text/x-python",
      "name": "python",
      "nbconvert_exporter": "python",
      "pygments_lexer": "ipython3",
      "version": "3.9.12"
    },
    "colab": {
      "provenance": []
    }
  },
  "nbformat": 4,
  "nbformat_minor": 5
}