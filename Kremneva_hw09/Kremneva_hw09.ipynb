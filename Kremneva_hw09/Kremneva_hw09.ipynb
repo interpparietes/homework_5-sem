{
  "cells": [
    {
      "cell_type": "markdown",
      "metadata": {
        "id": "39c126dd-721a-4764-acc3-ea849b34be5b"
      },
      "source": [
        "#### Семинарская задача 2.\n",
        "\n",
        "Сделайте то же с ячейкой ниже, загрузится файл 01-2.txt, в котором записано стихотворение без знаков препинания. Перезапишите его в новый файл таким образом, чтобы все слова в строчках были задом наперед."
      ],
      "id": "39c126dd-721a-4764-acc3-ea849b34be5b"
    },
    {
      "cell_type": "code",
      "execution_count": null,
      "metadata": {
        "id": "2c8ebdc0-1df2-4d0d-b331-e0c21db75d58"
      },
      "outputs": [],
      "source": [
        "!wget https://raw.githubusercontent.com/rsuh-python/bac21-25/main/term05/09-Files/files/01-2.txt"
      ],
      "id": "2c8ebdc0-1df2-4d0d-b331-e0c21db75d58"
    },
    {
      "cell_type": "code",
      "execution_count": null,
      "metadata": {
        "id": "b1eca8f0-0041-4d54-9288-eff4be24a7fd"
      },
      "outputs": [],
      "source": [
        "new_file = open('/content/01-88.txt', 'w')\n",
        "\n",
        "with open('/content/01-2.txt', 'r', encoding = 'utf8') as file:\n",
        "  for line in file:\n",
        "    my_list = line.split()\n",
        "    for word in my_list:\n",
        "      word = word[::-1]\n",
        "      new_file.write(word + ' ')\n",
        "    new_file.write('\\n')\n",
        "\n",
        "new_file.close()"
      ],
      "id": "b1eca8f0-0041-4d54-9288-eff4be24a7fd"
    },
    {
      "cell_type": "markdown",
      "metadata": {
        "id": "e2316971-fc46-41e6-8265-076b2b5d63bf"
      },
      "source": [
        "#### Семинарская задача 3.\n",
        "\n",
        "Запишите любой текстовый файл в папку с путем /myfolder/myfile. Не создавайте эти папки руками в проводнике, программа должна сама их завести."
      ],
      "id": "e2316971-fc46-41e6-8265-076b2b5d63bf"
    },
    {
      "cell_type": "code",
      "execution_count": null,
      "metadata": {
        "tags": [],
        "id": "37e34711-8ac8-4cca-8936-da1c1eb3f963"
      },
      "outputs": [],
      "source": [
        "import os\n",
        "os.makedirs('/myfolder/myfile')\n",
        "my_new_file = open('/myfolder/myfile/01-99.txt', 'w')\n",
        "my_new_file.write('Лучше всего использовать способ 4 для объемных файлов. В противном случае вы, например, загружаете гигабайтовый текстовый файл в оперативную память махом, и ноутбук превращается в тыкву...')\n",
        "my_new_file.close()"
      ],
      "id": "37e34711-8ac8-4cca-8936-da1c1eb3f963"
    },
    {
      "cell_type": "markdown",
      "metadata": {
        "tags": [],
        "id": "02a67b0c-a32f-4810-bf6a-5a83f47cbf2d"
      },
      "source": [
        "#### Семинарская задача 4.\n",
        "\n",
        "Возьмите любой текстовый файл с кодировкой, отличной от utf8, и перезапишите его в кодировке utf8. Как изменяется размер файла?"
      ],
      "id": "02a67b0c-a32f-4810-bf6a-5a83f47cbf2d"
    },
    {
      "cell_type": "code",
      "source": [
        "with open('/notUTF8.txt', 'r', encoding='cp1251') as file:\n",
        "    text = file.read()\n",
        "with open('/notUTF8.txt', 'w', encoding='utf8') as file:\n",
        "    file.write(text)\n",
        "\n",
        "# размер файла увеличился"
      ],
      "metadata": {
        "id": "lYyHdoQhwv5i"
      },
      "execution_count": null,
      "outputs": [],
      "id": "lYyHdoQhwv5i"
    },
    {
      "cell_type": "markdown",
      "metadata": {
        "id": "a5f893f5-f628-4373-b799-9a9de03aaa0d"
      },
      "source": [
        "#### Семинарская задача 5.\n",
        "\n",
        "В папке лежат разные файлы, некоторые из них с расширением .txt, другие нет. В текстовых файлах хранятся тексты, которые вам нужны. Напишите скрипт, который будет проходить по всем файлам в папке, открывать только текстовые файлы и считать количество слов в них. Вам необходимо будет также подумать про самую простую токенизацию (разделение на слова): split() будет недостаточно, ведь нужно еще избавиться от пунктуации. Можно ее, например, удалять с помощью каких-то методов строк."
      ],
      "id": "a5f893f5-f628-4373-b799-9a9de03aaa0d"
    },
    {
      "cell_type": "code",
      "execution_count": null,
      "metadata": {
        "tags": [],
        "id": "e77c40c6-a01d-4060-9686-8537fe4c85a3",
        "colab": {
          "base_uri": "https://localhost:8080/"
        },
        "outputId": "f919efb9-00cf-48f1-c05a-083bf23e7c05"
      },
      "outputs": [
        {
          "output_type": "stream",
          "name": "stdout",
          "text": [
            "Слов в файле - 47.\n",
            "Слов в файле - 50.\n"
          ]
        }
      ],
      "source": [
        "from string import punctuation\n",
        "import os\n",
        "\n",
        "in_dir = os.listdir('/content')\n",
        "\n",
        "for elem in in_dir:\n",
        "  if elem[-3:] == 'txt':\n",
        "    with open(elem, 'r') as file:\n",
        "      text = file.read()\n",
        "      bald_text = [word.strip(punctuation) for word in text.split()]\n",
        "      print(f'Слов в файле - {len(bald_text)}.')"
      ],
      "id": "e77c40c6-a01d-4060-9686-8537fe4c85a3"
    },
    {
      "cell_type": "markdown",
      "id": "85590e8b-54ce-4fd9-a36b-c1b35c2282ed",
      "metadata": {
        "id": "85590e8b-54ce-4fd9-a36b-c1b35c2282ed"
      },
      "source": [
        "#### Задача 1.\n",
        "\n",
        "В файле (можете взять любой файл с художественным произведением) содержится текст. Нужно сделать следующее:\n",
        "\n",
        "- считать текст из файла, добыть из него слова без знаков пунктуации (кто умеет регуляркой - хорошо, но в целом достаточно стандартных split и strip), собрать их во множество, чтобы не было повторяющихся слов.\n",
        "- отсортировать слова с конца, как в словаре Зализняка.\n",
        "- создать папку 'zaliznyak'\n",
        "- в этй папку записать несколько файлов: каждый файл называется по букве, на которую заканчиваются слова, которые в нем содержатся. То есть, файл с названием А.txt должен содержать мама, на, окна, пара и так далее.\n",
        "- (Необязательное) Все слова должны быть выровнены по правому краю, если догадаетесь, как сделать так, чтобы выравнивание происходило по самому длинному слову - отлично. (Нужно использовать f-строки и их параметры)."
      ]
    },
    {
      "cell_type": "code",
      "execution_count": null,
      "id": "97c32d7d-8612-444d-a7c0-b9765c47cef3",
      "metadata": {
        "id": "97c32d7d-8612-444d-a7c0-b9765c47cef3"
      },
      "outputs": [],
      "source": [
        "from string import punctuation\n",
        "import os\n",
        "\n",
        "text = []\n",
        "with open('/checkov.txt', 'r', encoding = 'utf8') as file:\n",
        "  for line in file:\n",
        "    text.extend([word.strip(punctuation) for word in line.lower().split()]) # многоточия (ну они какие-то стремные, считаются за один символ), кавычки (») и тире остались, уберу вручную ниже\n",
        "\n",
        "for word in text:\n",
        "  if word == '—':\n",
        "    text.remove(word)\n",
        "for i in range(len(text)):\n",
        "  if text[i][-1] == '…':\n",
        "    text[i] = text[i].replace('…', '')\n",
        "  if text[i][-1] == '»':\n",
        "    text[i] = text[i].replace('»', '')\n",
        "\n",
        "new_list = []  # сортировка по Зализняку\n",
        "for word in text:\n",
        "  new_word = word[::-1]\n",
        "  new_list.append(new_word)\n",
        "new_list.sort()\n",
        "zaliznyak_list = []\n",
        "for word in new_list:\n",
        "  new_word = word[::-1]\n",
        "  zaliznyak_list.append(new_word)\n",
        "\n",
        "os.makedirs('/zaliznyak')\n",
        "\n",
        "letter_list = []\n",
        "for word in zaliznyak_list:\n",
        "  if word[-1] not in letter_list and word[-1] != 'a': # это латинская 'a', она нам не нужна\n",
        "    letter_list.append(word[-1])\n",
        "\n",
        "for letter in letter_list:\n",
        "  if letter not in ['»', '…']:\n",
        "    file = open(f'/zaliznyak/{letter}.txt', 'w', encoding = 'utf8')\n",
        "    file.close()\n",
        "\n",
        "in_dir = os.listdir('/zaliznyak')\n",
        "\n",
        "for elem in in_dir:\n",
        "  for word in zaliznyak_list:\n",
        "    if elem == f'{word[-1]}.txt':\n",
        "      with open(f'/zaliznyak/{elem}', 'a') as file:\n",
        "        print(f'{word:>40}', file=file)  # видимо, чтобы выровнять по самому длинному слову, надо выловить из файла это слово, узнать его длину и поставить там, где у меня 40, вернусь сюда позже\n"
      ]
    },
    {
      "cell_type": "markdown",
      "id": "e35bf014-ea70-4dce-98e9-6f243e92a479",
      "metadata": {
        "id": "e35bf014-ea70-4dce-98e9-6f243e92a479"
      },
      "source": [
        "#### Задача 2.\n",
        "\n",
        "Напишите программу-игру, состоящую из функций. Смысл игры в том, что человек вводит с клавиатуры какой-нибудь достаточно длинный набор слов, компьютер эти слова сохраняет в списке и перемешивает случайным образом; потом человек загадывает число (не больше, чем количество введенных слов), и компьютер выдает ему ответом слово с таким индексом. Можно гадать!\n",
        "\n",
        "В программе должно быть минимум две функции: одна для создания списка слов, а вторая - собственно игра. При запуске у человека должен быть выбор, что он хочет сделать: создать (или перезаписать) список слов, играть или покинуть игру. Выбор должен производиться в бесконечном цикле while, который прерывается, когда человек выбирает покинуть игру. Используйте условные инструкции внутри цикла.\n",
        "\n",
        "Чтобы перемешать элементы в списке, используйте функцию shuffle модуля random:\n",
        "\n",
        "    from random import shuffle\n",
        "\n",
        "    lst = [1, 2, 3]\n",
        "    shuffle(lst)\n",
        "\n",
        "\n",
        "Введенный текст должен сохраняться в бинарный файл и доставаться оттуда при новом запуске игры."
      ]
    },
    {
      "cell_type": "code",
      "source": [
        "from random import shuffle\n",
        "\n",
        "def create(word_list):\n",
        "  shuffle(word_list)\n",
        "  return word_list\n",
        "\n",
        "def game(shuffle_result):\n",
        "  n = int(input('Загадайте число (не больше, чем количество введенных слов): '))\n",
        "  print(shuffle_result[n])"
      ],
      "metadata": {
        "id": "63PvC5fIPocF"
      },
      "id": "63PvC5fIPocF",
      "execution_count": null,
      "outputs": []
    },
    {
      "cell_type": "code",
      "execution_count": null,
      "id": "cd048576-948a-4c68-bbed-5b5cf3c29aa5",
      "metadata": {
        "id": "cd048576-948a-4c68-bbed-5b5cf3c29aa5",
        "colab": {
          "base_uri": "https://localhost:8080/"
        },
        "outputId": "c23a4d43-866c-44d1-f60c-503f1071bbe9"
      },
      "outputs": [
        {
          "output_type": "stream",
          "name": "stdout",
          "text": [
            "Привет! Введите 1, если хотите создать новый список слов, 2 - если хотите начать игру, 3 - если хотите покинуть игру: 1\n",
            "Введите список слов: кот дерево весло ноутбук книга ребенок окно Португалия весна\n",
            "Привет! Введите 1, если хотите создать новый список слов, 2 - если хотите начать игру, 3 - если хотите покинуть игру: 2\n",
            "Играем!\n",
            "Загадайте число (не больше, чем количество введенных слов): 4\n",
            "ноутбук\n",
            "Привет! Введите 1, если хотите создать новый список слов, 2 - если хотите начать игру, 3 - если хотите покинуть игру: 7\n",
            "Простите, не понимаю, что вы хотите :(\n",
            "Привет! Введите 1, если хотите создать новый список слов, 2 - если хотите начать игру, 3 - если хотите покинуть игру: 3\n",
            "Game over\n"
          ]
        }
      ],
      "source": [
        "while True:\n",
        "  intent = input('Привет! Введите 1, если хотите создать новый список слов, 2 - если хотите начать игру, 3 - если хотите покинуть игру: ')\n",
        "  if intent == '3':\n",
        "    print('Game over')\n",
        "    break\n",
        "  elif intent == '1':\n",
        "    my_list = input('Введите список слов: ').split()\n",
        "    shuffle_result = create(my_list)\n",
        "    import pickle\n",
        "    pickle.dump(shuffle_result, open('/content/shuffle', 'wb'))\n",
        "  elif intent == '2':\n",
        "    print('Играем!')\n",
        "    my_shuffle = pickle.load(open('/content/shuffle', 'rb'))\n",
        "    game(my_shuffle)\n",
        "  else:\n",
        "    print('Простите, не понимаю, что вы хотите :(')"
      ]
    },
    {
      "cell_type": "markdown",
      "id": "7720be27-ea6f-4bbe-8658-c2ff8aab6933",
      "metadata": {
        "id": "7720be27-ea6f-4bbe-8658-c2ff8aab6933"
      },
      "source": [
        "#### Задача 3.\n",
        "\n",
        "Напишем программу - телефонный справочник.\n",
        "\n",
        "В программе должно быть:\n",
        "\n",
        "1. Функция для поиска номера по справочнику\n",
        "2. Функция для создания новой записи\n",
        "3. Функция для сохранения справочника в файл\n",
        "4. В начале программы нужно проверять, существует ли файл со справочником\n",
        "5. В цикле нужно предлагать человеку варианты действий."
      ]
    },
    {
      "cell_type": "code",
      "execution_count": null,
      "id": "dd0b462f-bf38-41cc-aa71-f0de819032cd",
      "metadata": {
        "id": "dd0b462f-bf38-41cc-aa71-f0de819032cd"
      },
      "outputs": [],
      "source": [
        "def search(name):\n",
        "  with open('/content/phonebook.txt', 'r', encoding = 'utf8') as file:\n",
        "    for line in file:\n",
        "      if name in line:\n",
        "        print(line)\n",
        "      else:\n",
        "        print('Я не знаю номер этого человека :( Если хотите его добавить, введите 2.)')\n",
        "\n",
        "def create(new_name,  new_number):\n",
        "  with open('/content/phonebook.txt', 'a', encoding = 'utf8') as file:\n",
        "    file.write(f'{new_name}  {new_number}')\n",
        "    file.write('\\n')\n",
        "\n",
        "def save(my_path):\n",
        "  with open(my_path, 'w', encoding = 'utf8') as file:\n",
        "    file.write('ТЕЛЕФОННЫЙ СПРАВОЧНИК')\n",
        "    file.write('\\n')"
      ]
    },
    {
      "cell_type": "code",
      "source": [
        "import os\n",
        "\n",
        "if os.path.exists('/content/phonebook.txt') == False:\n",
        "  save('/content/phonebook.txt')\n",
        "while True:\n",
        "  intent = input('Введите 1, если хотите найти номер в справочнике, 2 - если хотите добавить новый номер, 3 - если хотите завершить работу: ')\n",
        "  if intent == '3':\n",
        "    break\n",
        "  elif intent == '1':\n",
        "    name_to_search = input('Введите имя человека, чей номер хотите найти: ')\n",
        "    search(name_to_search)\n",
        "  elif intent == '2':\n",
        "    name, number = input('Введите имя и номер телефона через пробел: ').split()\n",
        "    create(name, number)\n",
        "    print('Номер успешно добавлен в справочник!')\n",
        "  else:\n",
        "    print('Простите, не понимаю, что вы хотите :(')"
      ],
      "metadata": {
        "id": "NzLcNscnl9rU",
        "colab": {
          "base_uri": "https://localhost:8080/"
        },
        "outputId": "4858fe74-8e09-4aa2-8e60-c2309edf85fc"
      },
      "id": "NzLcNscnl9rU",
      "execution_count": null,
      "outputs": [
        {
          "name": "stdout",
          "output_type": "stream",
          "text": [
            "Введите 1, если хотите найти номер в справочнике, 2 - если хотите добавить новый номер, 3 - если хотите завершить работу: 1\n",
            "Введите имя человека, чей номер хотите найти: Петя\n",
            "Я не знаю номер этого человека :( Если хотите его добавить, введите 2.)\n",
            "Введите 1, если хотите найти номер в справочнике, 2 - если хотите добавить новый номер, 3 - если хотите завершить работу: 2\n",
            "Введите имя и номер телефона через пробел: Петя 89651775433\n",
            "Номер успешно добавлен в справочник!\n",
            "Введите 1, если хотите найти номер в справочнике, 2 - если хотите добавить новый номер, 3 - если хотите завершить работу: 1\n",
            "Введите имя человека, чей номер хотите найти: Петя\n",
            "Я не знаю номер этого человека :( Если хотите его добавить, введите 2.)\n",
            "Петя  89651775433\n",
            "\n",
            "Введите 1, если хотите найти номер в справочнике, 2 - если хотите добавить новый номер, 3 - если хотите завершить работу: 3\n"
          ]
        }
      ]
    },
    {
      "cell_type": "markdown",
      "id": "ed867e91-8571-43e9-acb1-239fcd7b60f2",
      "metadata": {
        "id": "ed867e91-8571-43e9-acb1-239fcd7b60f2"
      },
      "source": [
        "#### Задача 4.\n",
        "\n",
        "Пользователь вводит путь к файлу, а ваша программа должна 1) проверить, что путь введен правильно и такой файл существует 2) попытаться открыть этот файл 3) считать из него текст и вывести на экран первые 200 символов, если текст длиннее 200 символов, и весь текст, если не длиннее."
      ]
    },
    {
      "cell_type": "code",
      "execution_count": null,
      "id": "4ac61096-b86d-4ba3-882d-d4923e03a35f",
      "metadata": {
        "tags": [],
        "id": "4ac61096-b86d-4ba3-882d-d4923e03a35f",
        "colab": {
          "base_uri": "https://localhost:8080/"
        },
        "outputId": "5f7e2e98-4f41-4230-cbbb-282c71119ab1"
      },
      "outputs": [
        {
          "output_type": "stream",
          "name": "stdout",
          "text": [
            "/checkov.txt\n",
            "Антон Павлович Чехов\n",
            "\n",
            "Беседа пьяного с трезвым чёртом\n",
            "\n",
            "Бывший чиновник интендантского управления, отставной коллежский секретарь Лахматов, сидел у себя за столом и, выпивая шестнадцатую рюмку, размышл\n"
          ]
        }
      ],
      "source": [
        "import os\n",
        "\n",
        "my_path = input()\n",
        "text = ''\n",
        "length = 0\n",
        "if os.path.exists(my_path):\n",
        "  with open(my_path, 'r', encoding = 'utf8') as file:\n",
        "    for line in file:\n",
        "      if line.isspace() == False:\n",
        "        text += line + '\\n'\n",
        "        length += len(line)\n",
        "else:\n",
        "  print('Такого файла не существует!')\n",
        "\n",
        "if length > 200:\n",
        "  print(text[:200])\n",
        "else:\n",
        "  print(text)"
      ]
    },
    {
      "cell_type": "markdown",
      "id": "68b83ed7-046f-478e-80bd-8dcedd70d94a",
      "metadata": {
        "tags": [],
        "id": "68b83ed7-046f-478e-80bd-8dcedd70d94a"
      },
      "source": [
        "#### Задача 5.\n",
        "\n",
        "Сайт журнала \"Московский лингвистический журнал\" содержит странички с аннотациями и содержаниями всех своих номеров. Все эти странички лежат в папке issues и называются всегда одинаково:\n",
        "\n",
        "    issue25.html - 25 номер\n",
        "    issue25_en.html - английская версия страницы\n",
        "    annot25.html - аннотации к 25 номеру\n",
        "    annot25_en.html - английская версия аннотаций\n",
        "    \n",
        "Страничек там очень много, легко запутаться. Помогите секретарю журнала и проверьте с помощью программы, что для каждого номера есть все четыре файла, и выведите те номера, для которых отсутствует какой-нибудь файл, например, если у нас в наборе не хватает annot26.html, выведите \"Номер 26 - не хватает русской аннотации\".\n",
        "\n",
        "Тут пригодятся, наверное, словари."
      ]
    },
    {
      "cell_type": "code",
      "source": [
        "import os\n",
        "os.makedirs('/issues')\n",
        "\n",
        "# у 25 будет не хватать руской аннотации, а у 26 русского содержания и английского содержания\n",
        "\n",
        "with open('/issues/MJL.txt', 'w', encoding = 'utf8') as file:\n",
        "  file.writelines(['issue25.html\\n', 'issue25_en.html\\n', 'annot25_en.html\\n', 'annot26.html\\n', 'annot26_en.html\\n'])\n",
        "\n",
        "my_dict = {}\n",
        "\n",
        "with open('/issues/MJL.txt', 'r', encoding = 'utf8') as file:\n",
        "  for line in file:\n",
        "    if line[5:7] not in my_dict.keys():\n",
        "      my_dict[line[5:7]] = []\n",
        "\n",
        "with open('/issues/MJL.txt', 'r', encoding = 'utf8') as file:\n",
        "  for line in file:\n",
        "    for key in my_dict.keys():\n",
        "      if key in line:\n",
        "        new_line = line.replace(key, '')\n",
        "        new_line = new_line.replace('.html', '')\n",
        "        my_dict[key].append(new_line)\n",
        "\n",
        "print(my_dict)\n",
        "\n",
        "expected_list = ['issue\\n', 'issue_en\\n', 'annot\\n', 'annot_en\\n']\n",
        "\n",
        "for key, value in my_dict.items():\n",
        "  for elem in expected_list:\n",
        "    if elem not in value:\n",
        "      if elem == 'issue\\n':\n",
        "        print(f'Номер {key} - не хватает русского содержания.')\n",
        "      if elem == 'issue_en\\n':\n",
        "        print(f'Номер {key} - не хватает английского содержания.')\n",
        "      if elem == 'annot\\n':\n",
        "        print(f'Номер {key} - не хватает русской аннотации.')\n",
        "      if elem == 'annot_en\\n':\n",
        "        print(f'Номер {key} - не хватает английской аннотации.')\n"
      ],
      "metadata": {
        "id": "5tIqxXCtpJWv",
        "colab": {
          "base_uri": "https://localhost:8080/"
        },
        "outputId": "5c3cae7b-c34d-420e-d13c-79bc859742d6"
      },
      "id": "5tIqxXCtpJWv",
      "execution_count": 102,
      "outputs": [
        {
          "output_type": "stream",
          "name": "stdout",
          "text": [
            "{'25': ['issue\\n', 'issue_en\\n', 'annot_en\\n'], '26': ['annot\\n', 'annot_en\\n']}\n",
            "Номер 25 - не хватает русской аннотации.\n",
            "Номер 26 - не хватает русского содержания.\n",
            "Номер 26 - не хватает английского содержания.\n"
          ]
        }
      ]
    },
    {
      "cell_type": "markdown",
      "id": "72a2d5a9-46e5-4305-a105-86f4d605e02b",
      "metadata": {
        "id": "72a2d5a9-46e5-4305-a105-86f4d605e02b"
      },
      "source": [
        "#### Задача 6 (3 балла).\n",
        "\n",
        "Напишите игру \"Угадай столицу\". Эту задачу в течение семинара, скорее всего, сделать не успеете: нужно собрать (можно из википедии) достаточный список стран. У вас должен получиться текстовый файл в формате\n",
        "\n",
        "    страна\\tстолица\\tнаселение\n",
        "\n",
        "При запуске программа считывает данные из этого файла и сообщает, сколько у нас всего стран. В бесконечном цикле, который останавливается, когда пользователь выбирает выйти, предлагается играть, показать список стран и выйти. При выборе \"играть\" запускается функция play_game(), в которой спрашивается, сколько раундов хочет сыграть человек и сколько вариантов ответов ему предлагать. Потом в цикле for игра спрашивает столицу какой-нибудь страны (страны не должны повторяться!) и выбранное количество вариантов. За правильный ответ игра начисляет (1e+8 / население страны) - таким образом будет учитываться размер страны, например, для крошечной страны баллы будут больше. Можете подумать, как улучшить начисление баллов.\n",
        "\n",
        "Вам пригодятся функции из модуля random:\n",
        "\n",
        "    from random import choice, sample, shuffle"
      ]
    },
    {
      "cell_type": "code",
      "source": [
        "def play_game(general_list, country_list, capital_list):\n",
        "\n",
        "  my_score = 0\n",
        "\n",
        "  import random\n",
        "\n",
        "  round = int(input('Сколько раундов вы хотите сыграть? '))\n",
        "  option = int(input('Сколько вариантов ответа вам предлагать? '))\n",
        "\n",
        "  for _ in range(round):\n",
        "\n",
        "    used_countries = [] # сюда буду складывать страны, которые уже были, чтобы они не повторялись\n",
        "\n",
        "    while True:\n",
        "      random.shuffle(country_list)\n",
        "      to_guess = random.choice(country_list) # выбираем случайную страну\n",
        "      if to_guess not in used_countries:\n",
        "        break\n",
        "      else:\n",
        "        used_countries.append(to_guess)\n",
        "        pass\n",
        "    used_countries.append(to_guess)\n",
        "    print(f'Столица страны {to_guess}:')\n",
        "    counter = 0\n",
        "    random.shuffle(capital_list)\n",
        "\n",
        "    correct_answer = ''\n",
        "    for elem in general_list:\n",
        "      if to_guess in elem:\n",
        "        correct_answer = elem[1]  # правильная столица\n",
        "\n",
        "    while True: # проверяем, не совпала ли наша правильная столица с одной из тех, которые выбрал sample\n",
        "      answers = random.sample(capital_list, (option - 1)) # список случайных столиц\n",
        "      answers.append(correct_answer)  # список из случайных столиц и одной правильной\n",
        "      answer_set = set(answers)\n",
        "      if len(answer_set) == option:\n",
        "        break\n",
        "      else:\n",
        "        pass\n",
        "\n",
        "    random.shuffle(answers) # перемешаем список, иначе последним всегда будет правильный ответ\n",
        "\n",
        "    counter = 1\n",
        "    used = []\n",
        "    for _ in range(option + 4): # здесь + 4 для запаса, если choice выберет одно и то же\n",
        "      answer = random.choice(answers)\n",
        "      if answer not in used: # нужно убедиться, что не напечаются несколько одинаковых ответов\n",
        "        print(f'{counter}. {answer}')\n",
        "        used.append(answer)\n",
        "        counter += 1\n",
        "      else:\n",
        "        pass\n",
        "\n",
        "    my_answer = input('Введите правильную столицу(не номер варианта): ') # начисление баллов\n",
        "    if my_answer == correct_answer:\n",
        "      print('Верно!')\n",
        "      population = 0\n",
        "      for elem in general_list:\n",
        "        if correct_answer in elem:\n",
        "          population = int(elem[2])\n",
        "      my_score += (1e+8 / population)\n",
        "      print(f'Ваши баллы: {my_score}')\n",
        "    else:\n",
        "      print('Неверно')"
      ],
      "metadata": {
        "id": "6AYEvqJ5uW3G"
      },
      "id": "6AYEvqJ5uW3G",
      "execution_count": null,
      "outputs": []
    },
    {
      "cell_type": "code",
      "execution_count": null,
      "id": "a4a743ac-2a6b-4620-9b8c-06facf216274",
      "metadata": {
        "id": "a4a743ac-2a6b-4620-9b8c-06facf216274",
        "colab": {
          "base_uri": "https://localhost:8080/"
        },
        "outputId": "41ba7a1b-2b8f-49dd-a524-6758af779c9f"
      },
      "outputs": [
        {
          "output_type": "stream",
          "name": "stdout",
          "text": [
            "39\n",
            "Введите 1, если хотите играть, 2 - если хотите если хотите увидеть список стран, 3 - если хотите выйти из игры: 1\n",
            "Сколько раундов вы хотите сыграть? 3\n",
            "Сколько вариантов ответа вам предлагать? 3\n",
            "Столица страны Монако:\n",
            "1. Рейкьявик\n",
            "2. Монако-Вилль\n",
            "3. Баку\n",
            "Введите правильную столицу(не номер варианта): Баку\n",
            "Неверно\n",
            "Столица страны США:\n",
            "1. Апиа\n",
            "2. Подгорица\n",
            "3. Вашингтон\n",
            "Введите правильную столицу(не номер варианта): Вашингтон\n",
            "Верно!\n",
            "Ваши баллы: 0.30004120435855336\n",
            "Столица страны Самоа:\n",
            "1. Токио\n",
            "2. Каир\n",
            "3. Апиа\n",
            "Введите правильную столицу(не номер варианта): Апиа\n",
            "Верно!\n",
            "Ваши баллы: 507.9142544023281\n",
            "Введите 1, если хотите играть, 2 - если хотите если хотите увидеть список стран, 3 - если хотите выйти из игры: 2\n",
            "Индия\n",
            "Китай\n",
            "США\n",
            "Пакистан\n",
            "Нигерия\n",
            "Бразилия\n",
            "Бангладеш\n",
            "Россия\n",
            "Мексика\n",
            "Эфиопия\n",
            "Япония\n",
            "Филиппины\n",
            "Египет\n",
            "Вьетнам\n",
            "Иран\n",
            "Турция\n",
            "Иордания\n",
            "Гаити\n",
            "Чехия\n",
            "Азербайджан\n",
            "ОАЭ\n",
            "Парагвай\n",
            "Кувейт\n",
            "Монголия\n",
            "Бутан\n",
            "Мальта\n",
            "Исландия\n",
            "Самоа\n",
            "Монако\n",
            "Тувалу\n",
            "Ватикан\n",
            "Лихтенштейн\n",
            "Мальдивы\n",
            "Кирибати\n",
            "Сан-Марино\n",
            "Тонга\n",
            "Черногория\n",
            "Джибути\n",
            "Сент-Люсия\n",
            "Введите 1, если хотите играть, 2 - если хотите если хотите увидеть список стран, 3 - если хотите выйти из игры: 3\n",
            "Game over\n"
          ]
        }
      ],
      "source": [
        "counter = 0\n",
        "\n",
        "with open('/countries.txt', 'r', encoding = 'utf8') as file:\n",
        "  for line in file:\n",
        "    if line.isspace() == False:\n",
        "      counter += 1\n",
        "print(counter)\n",
        "\n",
        "while True:\n",
        "\n",
        "  intent = input('Введите 1, если хотите играть, 2 - если хотите если хотите увидеть список стран, 3 - если хотите выйти из игры: ')\n",
        "\n",
        "  if intent == '3':\n",
        "    print('Game over')\n",
        "    break\n",
        "\n",
        "  if intent == '1':\n",
        "    general_list = []\n",
        "    country_list = []\n",
        "    capital_list = []\n",
        "    with open('/countries.txt', 'r', encoding = 'utf8') as file:\n",
        "      for line in file:\n",
        "        line = line.replace('\\\\t', ' ')\n",
        "        general_list.append(line.split())\n",
        "        country_list.append(line.split()[0])\n",
        "        capital_list.append(line.split()[1])\n",
        "    play_game(general_list, country_list, capital_list)\n",
        "\n",
        "  if intent == '2':\n",
        "    with open('/countries.txt', 'r', encoding = 'utf8') as file:\n",
        "      for line in file:\n",
        "        line = line.replace('\\\\t', ' ')\n",
        "        print(line.split()[0])"
      ]
    }
  ],
  "metadata": {
    "kernelspec": {
      "display_name": "Python 3 (ipykernel)",
      "language": "python",
      "name": "python3"
    },
    "language_info": {
      "codemirror_mode": {
        "name": "ipython",
        "version": 3
      },
      "file_extension": ".py",
      "mimetype": "text/x-python",
      "name": "python",
      "nbconvert_exporter": "python",
      "pygments_lexer": "ipython3",
      "version": "3.9.12"
    },
    "colab": {
      "provenance": []
    }
  },
  "nbformat": 4,
  "nbformat_minor": 5
}