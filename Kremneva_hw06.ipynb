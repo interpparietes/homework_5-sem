{
  "cells": [
    {
      "cell_type": "markdown",
      "metadata": {
        "id": "a67ed58a-652e-4051-baab-54c16a8c34d3"
      },
      "source": [
        "#### Задача 5.\n",
        "\n",
        "Пользователь вводит список из слов. Поменяйте в этом списке все слова попарно местами, так, чтобы получилось:\n",
        "\n",
        "    денег нет но вы держитесь => нет денег вы но держитесь\n",
        "    карл у клары украл кларнет => у карл украл клары кларнет\n",
        "    милые котики теплые животики => котики милые животики теплые"
      ],
      "id": "a67ed58a-652e-4051-baab-54c16a8c34d3"
    },
    {
      "cell_type": "code",
      "source": [
        "# оставшаяся задача с 6 семинара\n",
        "\n",
        "words = input().split()\n",
        "index = 0\n",
        "for i in range(int(len(words) / 2)):\n",
        "  words[index], words[index + 1] = words[index + 1], words[index]\n",
        "  index += 2\n",
        "print(' '.join(words))"
      ],
      "metadata": {
        "colab": {
          "base_uri": "https://localhost:8080/"
        },
        "id": "xFNWrqOgkYKH",
        "outputId": "4af04207-43b1-4da3-9ab7-3a4784417d9d"
      },
      "id": "xFNWrqOgkYKH",
      "execution_count": null,
      "outputs": [
        {
          "output_type": "stream",
          "name": "stdout",
          "text": [
            "карл у клары украл кларнет\n",
            "у карл украл клары кларнет\n"
          ]
        }
      ]
    },
    {
      "cell_type": "markdown",
      "id": "e1ee0103-8200-46e7-8368-3f810345ce0b",
      "metadata": {
        "id": "e1ee0103-8200-46e7-8368-3f810345ce0b"
      },
      "source": [
        "#### Задача 1.\n",
        "\n",
        "Дан список. Выведите те его элементы, которые встречаются в списке только два раза. Элементы нужно выводить в том порядке, в котором их первые вхождения встречаются в списке, например:\n",
        "\n",
        "    1 1 2 3 2 3 => 1 2 3"
      ]
    },
    {
      "cell_type": "code",
      "source": [
        "my_list = input().split()\n",
        "met_items = ''\n",
        "for item in my_list:\n",
        "  if item not in met_items:\n",
        "    if my_list.count(item) == 2:\n",
        "      print(item, end = ' ')\n",
        "      met_items += item"
      ],
      "metadata": {
        "colab": {
          "base_uri": "https://localhost:8080/"
        },
        "id": "ZPIxzCRQHfsj",
        "outputId": "99e64b58-6c81-4cb1-ab9c-8d953ff29e87"
      },
      "id": "ZPIxzCRQHfsj",
      "execution_count": null,
      "outputs": [
        {
          "output_type": "stream",
          "name": "stdout",
          "text": [
            "cat 1 2 cat fat 2 dog dog 2 1\n",
            "cat 1 dog "
          ]
        }
      ]
    },
    {
      "cell_type": "markdown",
      "id": "1d0d7d13-df9a-4070-9154-02585efa6bf1",
      "metadata": {
        "id": "1d0d7d13-df9a-4070-9154-02585efa6bf1"
      },
      "source": [
        "#### Задача 2.\n",
        "\n",
        "Дан список слов, в некоторых словах есть буква ё. Нужно отсортировать список так, чтобы буква ё сортировалась по алфавиту.\n",
        "\n",
        "Подсказка: можно либо воспользоваться номерами юникода и сортировкой списков из чисел, либо заменять все буквы, которые идут после е, на что-нибудь еще."
      ]
    },
    {
      "cell_type": "code",
      "source": [
        "words = input().lower().split()\n",
        "\n",
        "def yo_ord(words):\n",
        "  new_words = []\n",
        "  for word in words:\n",
        "    new_word = list(word)\n",
        "    new_word = [(ord('е') + 0.5) if x == 'ё' else ord(x) for x in new_word]\n",
        "    new_words.append(new_word)\n",
        "  return new_words\n",
        "\n",
        "result = sorted(words, key=yo_ord)\n",
        "\n",
        "print(result)\n",
        "\n",
        "# ветер кнопка ёлка енот ёж"
      ],
      "metadata": {
        "colab": {
          "base_uri": "https://localhost:8080/"
        },
        "id": "VruWoJpNTk3D",
        "outputId": "34e0b193-f48a-4482-96dc-a88511222495"
      },
      "id": "VruWoJpNTk3D",
      "execution_count": 68,
      "outputs": [
        {
          "output_type": "stream",
          "name": "stdout",
          "text": [
            "ветер кнопка ёлка енот ёж\n",
            "['ветер', 'енот', 'ёж', 'ёлка', 'кнопка']\n"
          ]
        }
      ]
    },
    {
      "cell_type": "markdown",
      "id": "1e6d91cb-8540-4458-beaf-f616ca6f25b3",
      "metadata": {
        "id": "1e6d91cb-8540-4458-beaf-f616ca6f25b3"
      },
      "source": [
        "#### Задача 3.\n",
        "\n",
        "Дан список слов. Упорядочьте его в обратном лексикографическом порядке, как в словаре Зализняка."
      ]
    },
    {
      "cell_type": "code",
      "execution_count": null,
      "id": "182a0204-f099-4f0c-903b-7489af4bfbcc",
      "metadata": {
        "id": "182a0204-f099-4f0c-903b-7489af4bfbcc",
        "colab": {
          "base_uri": "https://localhost:8080/"
        },
        "outputId": "72554838-995a-4e91-cd85-acb41b24c7b7"
      },
      "outputs": [
        {
          "output_type": "stream",
          "name": "stdout",
          "text": [
            "милые котики теплые животики\n",
            "['милые', 'теплые', 'животики', 'котики']\n"
          ]
        }
      ],
      "source": [
        "words = input().split()\n",
        "new_words = []\n",
        "for word in words:\n",
        "  new_word = word[::-1]\n",
        "  new_words.append(new_word)\n",
        "new_words.sort()\n",
        "result = []\n",
        "for word in new_words:\n",
        "  new_word = word[::-1]\n",
        "  result.append(new_word)\n",
        "print(result)"
      ]
    },
    {
      "cell_type": "code",
      "source": [
        "# дошло, что с генератором в два раза короче\n",
        "\n",
        "words = input().split()\n",
        "new_words = [word[::-1] for word in words]\n",
        "new_words.sort()\n",
        "result = [word[::-1] for word in new_words]\n",
        "print(result)"
      ],
      "metadata": {
        "colab": {
          "base_uri": "https://localhost:8080/"
        },
        "id": "1tB2wWASU00b",
        "outputId": "e9b9f4e5-c715-4984-907b-391b7f892d6e"
      },
      "id": "1tB2wWASU00b",
      "execution_count": null,
      "outputs": [
        {
          "output_type": "stream",
          "name": "stdout",
          "text": [
            "милые котики теплые животики\n",
            "['милые', 'теплые', 'животики', 'котики']\n"
          ]
        }
      ]
    },
    {
      "cell_type": "markdown",
      "id": "1f2109b5-d4f1-4959-83cd-70ed5f6867ac",
      "metadata": {
        "id": "1f2109b5-d4f1-4959-83cd-70ed5f6867ac"
      },
      "source": [
        "#### Задача 4.\n",
        "\n",
        "Вводится список чисел, а потом число Х. Удалите из списка все вхождения этого числа."
      ]
    },
    {
      "cell_type": "code",
      "execution_count": null,
      "id": "2f6c0141-32e0-4acf-9758-3b1294b1f693",
      "metadata": {
        "id": "2f6c0141-32e0-4acf-9758-3b1294b1f693",
        "colab": {
          "base_uri": "https://localhost:8080/"
        },
        "outputId": "51eb0080-b6fd-463a-b577-214ae521a399"
      },
      "outputs": [
        {
          "output_type": "stream",
          "name": "stdout",
          "text": [
            "12 7 65 78 3 7 9\n",
            "7\n",
            "[12, 65, 78, 3, 9]\n"
          ]
        }
      ],
      "source": [
        "numbers = [int(x) for x in input().split()]\n",
        "x = int(input())\n",
        "for number in numbers:\n",
        "  if number == x:\n",
        "    numbers.remove(number)\n",
        "print(numbers)"
      ]
    }
  ],
  "metadata": {
    "kernelspec": {
      "display_name": "Python 3 (ipykernel)",
      "language": "python",
      "name": "python3"
    },
    "language_info": {
      "codemirror_mode": {
        "name": "ipython",
        "version": 3
      },
      "file_extension": ".py",
      "mimetype": "text/x-python",
      "name": "python",
      "nbconvert_exporter": "python",
      "pygments_lexer": "ipython3",
      "version": "3.9.12"
    },
    "colab": {
      "provenance": []
    }
  },
  "nbformat": 4,
  "nbformat_minor": 5
}